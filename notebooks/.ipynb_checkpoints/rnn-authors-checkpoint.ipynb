{
 "cells": [
  {
   "cell_type": "markdown",
   "metadata": {},
   "source": [
    "# RNN Models for Determining LKML Authors"
   ]
  },
  {
   "cell_type": "markdown",
   "metadata": {},
   "source": [
    "We posit that it would be interesting to be able to learn people's style of writing, such that they could be identified by their writing style. This has a variety of applications in "
   ]
  },
  {
   "cell_type": "code",
   "execution_count": 103,
   "metadata": {},
   "outputs": [],
   "source": [
    "import numpy as np\n",
    "import pandas as pd\n",
    "import matplotlib.pyplot as plt\n",
    "import seaborn as sns\n",
    "\n",
    "from matplotlib import rcParams\n",
    "rcParams['figure.figsize'] = 10, 8\n",
    "rcParams['axes.grid'] = True\n",
    "\n",
    "import os\n",
    "import sys\n",
    "from pprint import pprint\n",
    "from IPython.display import SVG\n",
    "\n",
    "from keras.models import Sequential\n",
    "from keras.layers import TimeDistributed, Dense, Activation, Input, Dropout\n",
    "from keras.layers import Embedding, Flatten, Merge, concatenate\n",
    "from keras.layers import Conv1D, MaxPooling1D\n",
    "from keras.layers import LSTM, GRU\n",
    "from keras.models import Model\n",
    "from keras.utils import to_categorical\n",
    "from keras.utils.vis_utils import model_to_dot\n",
    "from keras.optimizers import SGD, Adagrad, Adam, RMSprop\n",
    "from keras.callbacks import EarlyStopping\n",
    "from keras.regularizers import l2"
   ]
  },
  {
   "cell_type": "code",
   "execution_count": 2,
   "metadata": {
    "collapsed": true
   },
   "outputs": [],
   "source": [
    "file_dir = os.path.join(os.pardir, 'data', 'archive.csv')\n",
    "\n",
    "lkml_df = pd.read_csv(file_dir)"
   ]
  },
  {
   "cell_type": "code",
   "execution_count": 3,
   "metadata": {},
   "outputs": [
    {
     "data": {
      "text/html": [
       "<div>\n",
       "<style>\n",
       "    .dataframe thead tr:only-child th {\n",
       "        text-align: right;\n",
       "    }\n",
       "\n",
       "    .dataframe thead th {\n",
       "        text-align: left;\n",
       "    }\n",
       "\n",
       "    .dataframe tbody tr th {\n",
       "        vertical-align: top;\n",
       "    }\n",
       "</style>\n",
       "<table border=\"1\" class=\"dataframe\">\n",
       "  <thead>\n",
       "    <tr style=\"text-align: right;\">\n",
       "      <th></th>\n",
       "      <th>Unnamed: 0</th>\n",
       "      <th>Author</th>\n",
       "      <th>Time</th>\n",
       "      <th>Topic</th>\n",
       "      <th>Msg</th>\n",
       "      <th>Size</th>\n",
       "    </tr>\n",
       "  </thead>\n",
       "  <tbody>\n",
       "    <tr>\n",
       "      <th>0</th>\n",
       "      <td>1</td>\n",
       "      <td>Jarkko Sakkinen</td>\n",
       "      <td>Thu, 26 Oct 2017 21:07:28 +0200</td>\n",
       "      <td>Re: Fixing CVE-2017-15361</td>\n",
       "      <td>On Thu, Oct 26, 2017 at 03:51:27PM +0000, Alex...</td>\n",
       "      <td>2541</td>\n",
       "    </tr>\n",
       "    <tr>\n",
       "      <th>1</th>\n",
       "      <td>2</td>\n",
       "      <td>Stefano Stabellini</td>\n",
       "      <td>Thu, 26 Oct 2017 12:11:40 -0700</td>\n",
       "      <td>[PATCH v7 01/13] xen/pvcalls: introduce the pv...</td>\n",
       "      <td>Introduce a xenbus frontend for the pvcalls pr...</td>\n",
       "      <td>148</td>\n",
       "    </tr>\n",
       "    <tr>\n",
       "      <th>2</th>\n",
       "      <td>3</td>\n",
       "      <td>Stefano Stabellini</td>\n",
       "      <td>Thu, 26 Oct 2017 12:11:38 -0700 (PDT)</td>\n",
       "      <td>[PATCH v7 00/13] introduce the Xen PV Calls fr...</td>\n",
       "      <td>Hi all,\\nthis series introduces the frontend f...</td>\n",
       "      <td>1944</td>\n",
       "    </tr>\n",
       "    <tr>\n",
       "      <th>3</th>\n",
       "      <td>4</td>\n",
       "      <td>Stefano Stabellini</td>\n",
       "      <td>Thu, 26 Oct 2017 12:11:42 -0700</td>\n",
       "      <td>[PATCH v7 03/13] xen/pvcalls: connect to the b...</td>\n",
       "      <td>Implement the probe function for the pvcalls f...</td>\n",
       "      <td>325</td>\n",
       "    </tr>\n",
       "    <tr>\n",
       "      <th>4</th>\n",
       "      <td>5</td>\n",
       "      <td>James Morris</td>\n",
       "      <td>Thu, 26 Oct 2017 21:06:29 +0200 (CEST)</td>\n",
       "      <td>Re: regression in 4.14-rc2 caused by apparmor:...</td>\n",
       "      <td>On Thu, 26 Oct 2017, Linus Torvalds wrote:\\n&gt; ...</td>\n",
       "      <td>1036</td>\n",
       "    </tr>\n",
       "  </tbody>\n",
       "</table>\n",
       "</div>"
      ],
      "text/plain": [
       "   Unnamed: 0              Author                                    Time  \\\n",
       "0           1     Jarkko Sakkinen         Thu, 26 Oct 2017 21:07:28 +0200   \n",
       "1           2  Stefano Stabellini         Thu, 26 Oct 2017 12:11:40 -0700   \n",
       "2           3  Stefano Stabellini   Thu, 26 Oct 2017 12:11:38 -0700 (PDT)   \n",
       "3           4  Stefano Stabellini         Thu, 26 Oct 2017 12:11:42 -0700   \n",
       "4           5        James Morris  Thu, 26 Oct 2017 21:06:29 +0200 (CEST)   \n",
       "\n",
       "                                               Topic  \\\n",
       "0                          Re: Fixing CVE-2017-15361   \n",
       "1  [PATCH v7 01/13] xen/pvcalls: introduce the pv...   \n",
       "2  [PATCH v7 00/13] introduce the Xen PV Calls fr...   \n",
       "3  [PATCH v7 03/13] xen/pvcalls: connect to the b...   \n",
       "4  Re: regression in 4.14-rc2 caused by apparmor:...   \n",
       "\n",
       "                                                 Msg  Size  \n",
       "0  On Thu, Oct 26, 2017 at 03:51:27PM +0000, Alex...  2541  \n",
       "1  Introduce a xenbus frontend for the pvcalls pr...   148  \n",
       "2  Hi all,\\nthis series introduces the frontend f...  1944  \n",
       "3  Implement the probe function for the pvcalls f...   325  \n",
       "4  On Thu, 26 Oct 2017, Linus Torvalds wrote:\\n> ...  1036  "
      ]
     },
     "execution_count": 3,
     "metadata": {},
     "output_type": "execute_result"
    }
   ],
   "source": [
    "lkml_df.head()"
   ]
  },
  {
   "cell_type": "code",
   "execution_count": 4,
   "metadata": {},
   "outputs": [
    {
     "name": "stdout",
     "output_type": "stream",
     "text": [
      "<class 'pandas.core.frame.DataFrame'>\n",
      "RangeIndex: 127627 entries, 0 to 127626\n",
      "Data columns (total 6 columns):\n",
      "Unnamed: 0    127627 non-null int64\n",
      "Author        127627 non-null object\n",
      "Time          127627 non-null object\n",
      "Topic         127627 non-null object\n",
      "Msg           127627 non-null object\n",
      "Size          127627 non-null int64\n",
      "dtypes: int64(2), object(4)\n",
      "memory usage: 5.8+ MB\n"
     ]
    }
   ],
   "source": [
    "lkml_df.info()"
   ]
  },
  {
   "cell_type": "code",
   "execution_count": 5,
   "metadata": {},
   "outputs": [
    {
     "data": {
      "image/png": "[encoded data removed]",
      "text/plain": [
       "<matplotlib.figure.Figure at 0x2aab1c26f2b0>"
      ]
     },
     "metadata": {},
     "output_type": "display_data"
    }
   ],
   "source": [
    "sns.countplot(data=lkml_df, x='Author')\n",
    "plt.xticks([])\n",
    "plt.show()"
   ]
  },
  {
   "cell_type": "markdown",
   "metadata": {},
   "source": [
    "We'll go ahead and select for only authors who have a significant contribution to the mailing list. Not only does this make performance easier to evaluate, but it will also make it much easier to learn each author, supposing such a thing is even possible."
   ]
  },
  {
   "cell_type": "code",
   "execution_count": 6,
   "metadata": {},
   "outputs": [
    {
     "data": {
      "text/plain": [
       "(78158, 6)"
      ]
     },
     "execution_count": 6,
     "metadata": {},
     "output_type": "execute_result"
    }
   ],
   "source": [
    "high_contrib = np.unique(lkml_df.Author)[np.unique(lkml_df.Author, return_counts=True)[1] >= 150]\n",
    "contrib_lkml = lkml_df.loc[lkml_df.Author.isin(high_contrib)]\n",
    "contrib_lkml.shape"
   ]
  },
  {
   "cell_type": "markdown",
   "metadata": {},
   "source": [
    "Good, now we only have authors who have contributed at least 150 entries to the LKML, and we still have more nearly two-thirds of the dataset left over."
   ]
  },
  {
   "cell_type": "code",
   "execution_count": 30,
   "metadata": {
    "scrolled": true
   },
   "outputs": [
    {
     "name": "stdout",
     "output_type": "stream",
     "text": [
      "Hi,\n",
      "On Wed, Mar 08, 2017 at 02:42:10PM +0100, Dmitry Vyukov wrote:\n",
      "> I think if we scope compiler atomic builtins to KASAN/KTSAN/KMSAN (and\n",
      "> consequently x86/arm64) initially, it becomes more realistic. For the\n",
      "> tools we don't care about absolute efficiency and this gets rid of\n",
      "> Will's points (2), (4) and (6) here \n",
      "> Re (3) I think rmb/wmb can be reasonably replaced with\n",
      "> atomic_thread_fence(acquire/release). Re (5) situation with\n",
      "> correctness becomes better very quickly as more people use them in\n",
      "> user-space. Since KASAN is not intended to be used in production (or\n",
      "> at least such build is expected to crash), we can afford to shake out\n",
      "> any remaining correctness issues in such build. (1) I don't fully\n",
      "> understand, what exactly is the problem with seq_cst?\n",
      "I'll have to leave it to Will to have the final word on these; I'm\n",
      "certainly not familiar enough with the C11 memory model to comment on\n",
      "(1).\n",
      "However, w.r.t. (3), I don't think we can substitute rmb() and wmb()\n",
      "with atomic_thread_fence_acquire() and atomic_thread_fence_release()\n",
      "respectively on arm64.\n",
      "The former use barriers with full system scope, whereas the latter may\n",
      "be limited to the inner shareable domain. While I'm not sure of the\n",
      "precise intended semantics of wmb() and rmb(), I believe this\n",
      "substitution would break some cases (e.g. communicating with a\n",
      "non-coherent master).\n",
      "Note that regardless, we'd have to special-case __iowmb() to use a full\n",
      "system barrier.\n",
      "Also, w.r.t. (5), modulo the lack of atomic instrumentation, people use\n",
      "KASAN today, with compilers that are known to have bugs in their atomics\n",
      "(e.g. GCC bug 69875). Thus, we cannot rely on the compiler's\n",
      "implementation of atomics without introducing a functional regression.\n",
      "> i'Ve sketched a patch that does it, and did some testing with/without\n",
      "> KASAN on x86_64.\n",
      "> \n",
      "> In short, it adds include/linux/atomic_compiler.h which is included\n",
      "> from include/linux/atomic.h when CONFIG_COMPILER_ATOMIC is defined;\n",
      "> and <asm/atomic.h> is not included when CONFIG_COMPILER_ATOMIC is\n",
      "> defined.\n",
      "> For bitops it is similar except that only parts of asm/bitops.h are\n",
      "> selectively disabled when CONFIG_COMPILER_ATOMIC, because it also\n",
      "> defines other stuff.\n",
      "> asm/barriers.h is left intact for now. We don't need it for KASAN. But\n",
      "> for KTSAN we can do similar thing -- selectively disable some of the\n",
      "> barriers in asm/barriers.h (e.g. leaving dma_rmb/wmb per arch).\n",
      "> \n",
      "> Such change would allow us to support atomic ops for multiple arches\n",
      "> for all of KASAN/KTSAN/KMSAN.\n",
      "> \n",
      "> Thoughts?\n",
      "As in my other reply, I'd prefer that we wrapped the (arch-specific)\n",
      "atomic implementations such that we can instrument them explicitly in a\n",
      "core header. That means that the implementation and semantics of the\n",
      "atomics don't change at all.\n",
      "Note that we could initially do this just for x86 and arm64), e.g. by\n",
      "having those explicitly include an <asm-generic/atomic-instrumented.h>\n",
      "at the end of their <asm/atomic.h>.\n",
      "For architectures which can use the compiler's atomics, we can allow\n",
      "them to do so, skipping the redundant explicit instrumentation.\n",
      "Other than being potentially slower (which we've established we don't\n",
      "care too much about above), is there a problem with that approach?\n",
      "Thanks,\n",
      "Mark.\n",
      "==========================================================\n",
      "Mark Rutland\n",
      "==========================================================\n"
     ]
    }
   ],
   "source": [
    "import re\n",
    "\n",
    "rand_idx = np.random.choice(contrib_lkml.index)\n",
    "print(contrib_lkml.Msg[rand_idx])\n",
    "print('==========================================================')\n",
    "print(contrib_lkml.Author[rand_idx])\n",
    "print('==========================================================')"
   ]
  },
  {
   "cell_type": "markdown",
   "metadata": {},
   "source": [
    "If we look through here enough, we'll find that a lot of times, the author of a specific message will be kind enough to sign it, giving away completely the answer. As this this is not what we set out to do and is severely uninteresting, we will try to remove any mentions of the author's name in their message."
   ]
  },
  {
   "cell_type": "code",
   "execution_count": 18,
   "metadata": {},
   "outputs": [
    {
     "name": "stderr",
     "output_type": "stream",
     "text": [
      "/hpc/applications/anaconda/3/lib/python3.6/site-packages/ipykernel_launcher.py:11: SettingWithCopyWarning: \n",
      "A value is trying to be set on a copy of a slice from a DataFrame.\n",
      "Try using .loc[row_indexer,col_indexer] = value instead\n",
      "\n",
      "See the caveats in the documentation: http://pandas.pydata.org/pandas-docs/stable/indexing.html#indexing-view-versus-copy\n",
      "  # This is added back by InteractiveShellApp.init_path()\n"
     ]
    }
   ],
   "source": [
    "import re\n",
    "\n",
    "def remove_name(row):\n",
    "    result = row['Msg']\n",
    "    for word in row['Author'].split():\n",
    "        if len(word) > 2:\n",
    "            check_word = re.sub(r'[\\\",\\(\\)\\.\\\\]', '', word)\n",
    "            result = re.sub(check_word, '', result)\n",
    "    return result\n",
    "    \n",
    "contrib_lkml['Text'] = contrib_lkml.apply(lambda row : remove_name(row), axis=1)"
   ]
  },
  {
   "cell_type": "code",
   "execution_count": 29,
   "metadata": {
    "scrolled": true
   },
   "outputs": [
    {
     "name": "stdout",
     "output_type": "stream",
     "text": [
      "> Il giorno 15 mar 2017, alle ore 17:30, Jens Axboe <axboe@kernel.dk> ha scritto:\n",
      "> \n",
      "> On 03/15/2017 09:47 AM, Jens Axboe wrote:\n",
      ">> I think you understood me correctly. Currently I think the putting of\n",
      ">> the io context is somewhat of a mess. You have seemingly random places\n",
      ">> where you have to use special unlock functions, to ensure that you\n",
      ">> notice that some caller deeper down has set ->ioc_to_put. I took a quick\n",
      ">> look at it, and by far most of the cases can return an io_context to\n",
      ">> free quite easily. You can mark these functions __must_check to ensure\n",
      ">> that we don't drop an io_context, inadvertently. That's already a win\n",
      ">> over the random ->ioc_to_put store. And you can then get rid of\n",
      ">> bfq_unlock_put_ioc and it's irq variant as well.\n",
      ">> \n",
      ">> The places where you are already returning a value, like off dispatch\n",
      ">> for instance, you can just pass in a pointer to an io_context pointer.\n",
      ">> \n",
      ">> If you get this right, it'll be a lot less fragile and hacky than your\n",
      ">> current approach.\n",
      "> \n",
      "> Even just looking a little closer, you also find cases where you\n",
      "> potentially twice store ->ioc_to_put. That kind of mixup can't happen if\n",
      "> you return it properly.\n",
      "> \n",
      "> In __bfq_dispatch_request(), for instance. You call bfq_select_queue(),\n",
      "> and that in turn calls bfq_bfqq_expire(), which calls\n",
      "> __bfq_bfqq_expire() which can set ->ioc_to_put. But later on,\n",
      "> __bfq_dispatch_request() calls bfq_dispatch_rq_from_bfqq(), which in\n",
      "> turn calls bfq_bfqq_expire() that can also set ->ioc_to_put. There's no\n",
      "> \"magic\" bfq_unlock_and_put_ioc() in-between those. Maybe the former call\n",
      "> never sets ->ioc_to_put if it returns with bfqq == NULL? Hard to tell.\n",
      "> \n",
      "> Or __bfq_insert_request(), it calls bfq_add_request(), which may set\n",
      "> ->ioc_to_put through bfq_bfqq_handle_idle_busy_switch() ->\n",
      "> bfq_bfqq_expire(). And then from calling bfq_rq_enqueued() ->\n",
      "> bfq_bfqq_expire().\n",
      "> \n",
      "I have checked that.  Basically, since a queue can't be expired twice,\n",
      "then it should never happen that ioc_to_put is set twice before being\n",
      "used.  Yet, I do agree that using a shared field and exploiting\n",
      "collateral effects makes code very complex and fragile (maybe even\n",
      "buggy if my speculative check is wrong).  Just, it has been the best\n",
      "solution I found, to avoid deferred work as you asked.  In fact, I\n",
      "still find quite heavy the alternative of passing a pointer to an ioc\n",
      "forth and back across seven or eight nested functions.\n",
      "> There might be more, but I think the above is plenty of evidence that\n",
      "> the current ->ioc_to_put solution is a bad hack, fragile, and already\n",
      "> has bugs.\n",
      "> \n",
      "> How often do you expect this putting of the io_context to happen?\n",
      "Unfortunately often, as it must be done also every time the in-service\n",
      "queue is reset.  But, in this respect, are we sure that we do need to\n",
      "grab a reference to the ioc when we set a queue in service (as done in\n",
      "cfq, and copied into bfq)?  I mean, we have the hook exit_ioc for\n",
      "controlling the disappearing of an ioc.  Am I missing something here\n",
      "too?\n",
      "Thanks,\n",
      "\n",
      "> If\n",
      "> it's not a very frequent occurence, maybe using a deferred workqueue to\n",
      "> put it IS the right solution. As it currently stands, the code doesn't\n",
      "> really work, and it's fragile. It can't be cleaned up without\n",
      "> refactoring, since the call paths are all extremely intermingled.\n",
      "> \n",
      "> -- \n",
      "> Jens Axboe\n",
      "> \n",
      "==========================================================\n",
      "Paolo Valente\n",
      "==========================================================\n"
     ]
    }
   ],
   "source": [
    "import re\n",
    "\n",
    "rand_idx = np.random.choice(contrib_lkml.index)\n",
    "print(contrib_lkml.Text[rand_idx])\n",
    "print('==========================================================')\n",
    "print(contrib_lkml.Author[rand_idx])\n",
    "print('==========================================================')"
   ]
  },
  {
   "cell_type": "markdown",
   "metadata": {},
   "source": [
    "That's much better. If we wanted to go another step further, we could remove the full last few lines, essentially anytime we detected a signature, so as to void personal flourishes giving someone away, but it may actually be interesting to learn those.\n",
    "\n",
    "We will now import GloVe, in order to embed the words we are interested in to make them useable as inputs to our RNN."
   ]
  },
  {
   "cell_type": "markdown",
   "metadata": {},
   "source": [
    "## Glorified Screwing Around (Data Exploration)"
   ]
  },
  {
   "cell_type": "code",
   "execution_count": 84,
   "metadata": {},
   "outputs": [
    {
     "data": {
      "image/png": "[encoded data removed]",
      "text/plain": [
       "<matplotlib.figure.Figure at 0x2aabc89a8cf8>"
      ]
     },
     "metadata": {},
     "output_type": "display_data"
    }
   ],
   "source": [
    "sns.distplot(contrib_lkml[contrib_lkml.Size > 1000].Size, norm_hist=False, kde=False)\n",
    "plt.show()"
   ]
  },
  {
   "cell_type": "markdown",
   "metadata": {},
   "source": [
    "1000 words looks like it gets the full sequence in the majority of our data anyways, so we can use that as our max length."
   ]
  },
  {
   "cell_type": "code",
   "execution_count": 83,
   "metadata": {
    "collapsed": true
   },
   "outputs": [],
   "source": [
    "max_length = 1000"
   ]
  },
  {
   "cell_type": "code",
   "execution_count": 114,
   "metadata": {},
   "outputs": [
    {
     "data": {
      "text/plain": [
       "191"
      ]
     },
     "execution_count": 114,
     "metadata": {},
     "output_type": "execute_result"
    }
   ],
   "source": [
    "n_classes = np.unique(contrib_lkml.Author).shape[0]\n",
    "n_classes"
   ]
  },
  {
   "cell_type": "code",
   "execution_count": 35,
   "metadata": {},
   "outputs": [
    {
     "data": {
      "image/png": "[encoded data removed]",
      "text/plain": [
       "<matplotlib.figure.Figure at 0x2aabc6050eb8>"
      ]
     },
     "metadata": {},
     "output_type": "display_data"
    }
   ],
   "source": [
    "sns.countplot(contrib_lkml.Author)\n",
    "plt.xticks([])\n",
    "plt.show()"
   ]
  },
  {
   "cell_type": "markdown",
   "metadata": {},
   "source": [
    "Oh, my..."
   ]
  },
  {
   "cell_type": "code",
   "execution_count": 46,
   "metadata": {},
   "outputs": [
    {
     "data": {
      "text/plain": [
       "'Greg Kroah-Hartman'"
      ]
     },
     "execution_count": 46,
     "metadata": {},
     "output_type": "execute_result"
    }
   ],
   "source": [
    "contrib_lkml.Author.value_counts().argmax()"
   ]
  },
  {
   "cell_type": "markdown",
   "metadata": {},
   "source": [
    "[For the interested](https://en.wikipedia.org/wiki/Greg_Kroah-Hartman)\n",
    "\n",
    "But also because we're the curious type, let's see about everyone's favorite Linus Torvalds."
   ]
  },
  {
   "cell_type": "code",
   "execution_count": 40,
   "metadata": {},
   "outputs": [
    {
     "data": {
      "text/plain": [
       "489"
      ]
     },
     "execution_count": 40,
     "metadata": {},
     "output_type": "execute_result"
    }
   ],
   "source": [
    "np.array([contrib_lkml.Author == 'Linus Torvalds']).sum()"
   ]
  },
  {
   "cell_type": "markdown",
   "metadata": {},
   "source": [
    "Not bad for the man the kernel was named for."
   ]
  },
  {
   "cell_type": "markdown",
   "metadata": {},
   "source": [
    "### Done Screwing Around, Back to the $\\text{Real Data Science}^{\\text{TM}}$"
   ]
  },
  {
   "cell_type": "code",
   "execution_count": 50,
   "metadata": {},
   "outputs": [
    {
     "name": "stdout",
     "output_type": "stream",
     "text": [
      "Found 238800 unique tokens. Distilled to 238800 top words.\n"
     ]
    }
   ],
   "source": [
    "from keras.preprocessing.text import Tokenizer\n",
    "from keras.preprocessing.sequence import pad_sequences\n",
    "\n",
    "NUM_TOP_WORDS = None\n",
    "MAX_ART_LEN = 1000 # maximum and minimum number of words\n",
    "\n",
    "\n",
    "tokenizer = Tokenizer(num_words=NUM_TOP_WORDS)\n",
    "tokenizer.fit_on_texts(contrib_lkml.Text.values)\n",
    "sequences = tokenizer.texts_to_sequences(contrib_lkml.Text.values)\n",
    "\n",
    "word_index = tokenizer.word_index\n",
    "NUM_TOP_WORDS = len(word_index) if NUM_TOP_WORDS==None else NUM_TOP_WORDS\n",
    "top_words = min((len(word_index),NUM_TOP_WORDS))\n",
    "print('Found %s unique tokens. Distilled to %d top words.' % (len(word_index),top_words))"
   ]
  },
  {
   "cell_type": "code",
   "execution_count": 88,
   "metadata": {},
   "outputs": [],
   "source": [
    "# we have a lot of unique words, so a larger embedding is necessary\n",
    "glove_file = os.path.join(os.pardir, 'data', 'glove.6B.200d.txt') \n",
    "\n",
    "# code for setting up GloVe embedding copied from:\n",
    "# https://blog.keras.io/using-pre-trained-word-embeddings-in-a-keras-model.html\n",
    "\n",
    "embeddings_index = {}\n",
    "f = open(glove_file)\n",
    "for line in f:\n",
    "    values = line.split()\n",
    "    word = values[0]\n",
    "    coefs = np.asarray(values[1:], dtype='float32')\n",
    "    embeddings_index[word] = coefs\n",
    "f.close()\n",
    "\n",
    "embedding_size = 200\n",
    "\n",
    "embedding_matrix = np.zeros((len(word_index) + 1, embedding_size))\n",
    "for word, i in word_index.items():\n",
    "    embedding_vector = embeddings_index.get(word)\n",
    "    if embedding_vector is not None:\n",
    "        # words not found in embedding index will be all-zeros.\n",
    "        embedding_matrix[i] = embedding_vector\n",
    "        \n",
    "embed_layer = Embedding(len(word_index) + 1, embedding_size,\n",
    "                        input_length=max_length,\n",
    "                        weights=[embedding_matrix],\n",
    "                        trainable=False)"
   ]
  },
  {
   "cell_type": "code",
   "execution_count": 94,
   "metadata": {
    "scrolled": false
   },
   "outputs": [],
   "source": [
    "from sklearn.model_selection import train_test_split\n",
    "from sklearn.preprocessing import LabelBinarizer\n",
    "\n",
    "authors = LabelBinarizer().fit_transform(contrib_lkml.Author)\n",
    "\n",
    "X_train, X_test, y_train, y_test = train_test_split(sequences, authors)\n",
    "\n",
    "X_train = pad_sequences(X_train, maxlen=max_length)\n",
    "X_test = pad_sequences(X_test, maxlen=max_length)"
   ]
  },
  {
   "cell_type": "markdown",
   "metadata": {},
   "source": [
    "## Evaluation Criteria"
   ]
  },
  {
   "cell_type": "markdown",
   "metadata": {},
   "source": [
    "### Metrics"
   ]
  },
  {
   "cell_type": "markdown",
   "metadata": {},
   "source": [
    "### Cross-Validation"
   ]
  },
  {
   "cell_type": "markdown",
   "metadata": {},
   "source": [
    "## Finding Models that Work"
   ]
  },
  {
   "cell_type": "code",
   "execution_count": 115,
   "metadata": {},
   "outputs": [
    {
     "name": "stdout",
     "output_type": "stream",
     "text": [
      "_________________________________________________________________\n",
      "Layer (type)                 Output Shape              Param #   \n",
      "=================================================================\n",
      "embedding_1 (Embedding)      (None, 1000, 200)         47760200  \n",
      "_________________________________________________________________\n",
      "lstm_17 (LSTM)               (None, 200)               320800    \n",
      "_________________________________________________________________\n",
      "dense_21 (Dense)             (None, 200)               40200     \n",
      "_________________________________________________________________\n",
      "dropout_11 (Dropout)         (None, 200)               0         \n",
      "_________________________________________________________________\n",
      "dense_22 (Dense)             (None, 191)               38391     \n",
      "_________________________________________________________________\n",
      "dropout_12 (Dropout)         (None, 191)               0         \n",
      "=================================================================\n",
      "Total params: 48,159,591\n",
      "Trainable params: 399,391\n",
      "Non-trainable params: 47,760,200\n",
      "_________________________________________________________________\n"
     ]
    }
   ],
   "source": [
    "rnn_generic = Sequential()\n",
    "\n",
    "rnn_generic.add(embed_layer)\n",
    "rnn_generic.add(LSTM(200, dropout=0.2, \n",
    "                     recurrent_dropout=0.2,\n",
    "                     return_sequences=False))\n",
    "rnn_generic.add(Dense(200, activation='relu'))\n",
    "rnn_generic.add(Dropout(0.2))\n",
    "rnn_generic.add(Dense(n_classes, activation='softmax'))\n",
    "rnn_generic.add(Dropout(0.2))\n",
    "\n",
    "rnn_generic.compile(loss='sparse_categorical_crossentropy',\n",
    "                   optimizer='rmsprop',\n",
    "                   metric=['acc'])\n",
    "rnn_generic.summary()"
   ]
  },
  {
   "cell_type": "code",
   "execution_count": null,
   "metadata": {
    "collapsed": true
   },
   "outputs": [],
   "source": []
  }
 ],
 "metadata": {
  "kernelspec": {
   "display_name": "Python 3",
   "language": "python",
   "name": "python3"
  },
  "language_info": {
   "codemirror_mode": {
    "name": "ipython",
    "version": 3
   },
   "file_extension": ".py",
   "mimetype": "text/x-python",
   "name": "python",
   "nbconvert_exporter": "python",
   "pygments_lexer": "ipython3",
   "version": "3.6.2"
  }
 },
 "nbformat": 4,
 "nbformat_minor": 2
}
